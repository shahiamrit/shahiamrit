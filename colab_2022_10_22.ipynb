{
  "cells": [
    {
      "cell_type": "markdown",
      "metadata": {
        "id": "view-in-github",
        "colab_type": "text"
      },
      "source": [
        "<a href=\"https://colab.research.google.com/github/shahiamrit/shahiamrit/blob/main/colab_2022_10_22.ipynb\" target=\"_parent\"><img src=\"https://colab.research.google.com/assets/colab-badge.svg\" alt=\"Open In Colab\"/></a>"
      ]
    },
    {
      "cell_type": "code",
      "source": [
        "print('hi')"
      ],
      "metadata": {
        "id": "ou9gpTj3OeUy",
        "outputId": "312f8840-8614-4fc3-a38e-0961e7d3bbcc",
        "colab": {
          "base_uri": "https://localhost:8080/"
        }
      },
      "execution_count": null,
      "outputs": [
        {
          "output_type": "stream",
          "name": "stdout",
          "text": [
            "hi\n"
          ]
        }
      ]
    },
    {
      "cell_type": "code",
      "source": [
        "def decorated_by(func):\n",
        "  func.__doc__ += '\\nDecorated by decorated_by.'\n",
        "  return func"
      ],
      "metadata": {
        "id": "oqilyLmAOhY6"
      },
      "execution_count": null,
      "outputs": []
    },
    {
      "cell_type": "code",
      "source": [
        "def add(x, y):\n",
        "  \"\"\"Return the sum of x and y.\"\"\"\n",
        "  return x + y"
      ],
      "metadata": {
        "id": "MtE6vYCROxSI"
      },
      "execution_count": null,
      "outputs": []
    },
    {
      "cell_type": "code",
      "source": [
        "add(5, 6)"
      ],
      "metadata": {
        "id": "0SilJXAtOzVa",
        "outputId": "a1382ebb-44c8-4e18-b446-bda536170b03",
        "colab": {
          "base_uri": "https://localhost:8080/"
        }
      },
      "execution_count": null,
      "outputs": [
        {
          "output_type": "execute_result",
          "data": {
            "text/plain": [
              "11"
            ]
          },
          "metadata": {},
          "execution_count": 8
        }
      ]
    },
    {
      "cell_type": "code",
      "source": [
        "def add(x, y):\n",
        "  \"\"\"Return the sum of x and y.\"\"\"\n",
        "  return x + y\n",
        "add = decorated_by(add)"
      ],
      "metadata": {
        "id": "z02ZqYKePTxK"
      },
      "execution_count": null,
      "outputs": []
    },
    {
      "cell_type": "code",
      "source": [
        "@decorated_by\n",
        "def add(x, y):\n",
        "  \"\"\" Return the sum of x and y. \"\"\"\n",
        "  return x + y"
      ],
      "metadata": {
        "id": "3khGQwh6PqfS"
      },
      "execution_count": null,
      "outputs": []
    },
    {
      "cell_type": "code",
      "source": [
        "registry = []\n",
        "def register(decorated):\n",
        "  registry.append(decorated)\n",
        "  return decorated"
      ],
      "metadata": {
        "id": "Sj9se9g_QEvJ"
      },
      "execution_count": null,
      "outputs": []
    },
    {
      "cell_type": "code",
      "source": [
        "@register\n",
        "def foo():\n",
        "  return 3"
      ],
      "metadata": {
        "id": "yAOICoRQQoPC"
      },
      "execution_count": null,
      "outputs": []
    },
    {
      "cell_type": "code",
      "source": [
        "@register\n",
        "def bar():\n",
        "  return 5"
      ],
      "metadata": {
        "id": "andIJbJDQrzv"
      },
      "execution_count": null,
      "outputs": []
    },
    {
      "cell_type": "code",
      "source": [
        "answers = []\n",
        "for i in registry:\n",
        "  answers.append(i())"
      ],
      "metadata": {
        "id": "nLaB-s5jQ3h4"
      },
      "execution_count": null,
      "outputs": []
    },
    {
      "cell_type": "code",
      "source": [
        "answers"
      ],
      "metadata": {
        "id": "lA1vjhDrRYpv",
        "outputId": "3cf8f86d-ea5d-4920-f917-58899dd9f8fe",
        "colab": {
          "base_uri": "https://localhost:8080/"
        }
      },
      "execution_count": null,
      "outputs": [
        {
          "output_type": "execute_result",
          "data": {
            "text/plain": [
              "[3, 5]"
            ]
          },
          "metadata": {},
          "execution_count": 20
        }
      ]
    },
    {
      "cell_type": "code",
      "source": [
        "## 16 first page of books"
      ],
      "metadata": {
        "id": "x9JRga7DRam_"
      },
      "execution_count": null,
      "outputs": []
    },
    {
      "cell_type": "code",
      "source": [],
      "metadata": {
        "id": "RVWtdpFmR3Je"
      },
      "execution_count": null,
      "outputs": []
    }
  ],
  "metadata": {
    "colab": {
      "collapsed_sections": [],
      "name": "Welcome To Colaboratory",
      "toc_visible": true,
      "provenance": [],
      "include_colab_link": true
    },
    "kernelspec": {
      "display_name": "Python 3",
      "name": "python3"
    }
  },
  "nbformat": 4,
  "nbformat_minor": 0
}